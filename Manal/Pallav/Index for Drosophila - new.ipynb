{
 "cells": [
  {
   "cell_type": "code",
   "execution_count": 2,
   "metadata": {
    "collapsed": false
   },
   "outputs": [],
   "source": [
    "from __future__ import print_function\n",
    "import scipy.io as spio\n",
    "import scipy.interpolate as spin\n",
    "from scipy.linalg import norm\n",
    "from numpy import *\n",
    "from scipy.spatial.distance import cdist\n",
    "import sys\n",
    "import os\n",
    "import cPickle as pickle\n",
    "import pandas as pd\n",
    "import pylab\n",
    "import matplotlib.pyplot as plt"
   ]
  },
  {
   "cell_type": "code",
   "execution_count": 3,
   "metadata": {
    "collapsed": false,
    "scrolled": false
   },
   "outputs": [
    {
     "name": "stderr",
     "output_type": "stream",
     "text": [
      "11.mat  0.22\n",
      "18.mat  0.13\n",
      "14.mat  0.27\n",
      "1.mat  0.14\n",
      "8.mat  0.56\n",
      "17.mat  0.22\n",
      "6.mat  0.52\n",
      "16.mat  0.26\n",
      "20.mat  0.22\n",
      "9.mat  0.47\n",
      "19.mat  0.51\n",
      "10.mat  0.25\n",
      "3.mat  0.55\n",
      "4.mat  0.32\n",
      "15.mat  0.31\n",
      "7.mat  0.41\n",
      "5.mat  0.51\n",
      "12.mat  0.54\n",
      "13.mat  0.12\n",
      "2.mat  0.24\n"
     ]
    }
   ],
   "source": [
    "#for wild type\n",
    "\n",
    "indexlist=[]\n",
    "timelist=[]\n",
    "filenamelist=[]\n",
    "\n",
    "dt=1/50\n",
    "count=0\n",
    "for dirname, dirnames, filenames in os.walk('/home/pallab/AxelWork/Data/Satoshi/starvation without water/water'):\n",
    "    for filename in filenames:\n",
    "        if filename[-1]=='t':\n",
    "           \n",
    "            count=count+1    \n",
    "            filenamelist.append(filename)\n",
    "            sys.stderr.flush()\n",
    "            data=spio.loadmat(os.path.join(dirname, filename))\n",
    "            #data=spi.loadmat(\"/media/pallab/My Passport/with dot experiment/Light Light Light/data\"+str(i)+\"/n1\")\n",
    "            timestamps=ndarray.flatten(data['timestamps'])\n",
    "\n",
    "            for key in data.keys():\n",
    "                if key not in ['__globals__','__version__','__header__']:\n",
    "                    exec(key+\"=ndarray.flatten(data['\"+key+\"'])\")\n",
    "\n",
    "            #smoothing\n",
    "            times=timestamps[0:x_pos.size]\n",
    "\n",
    "            splx=spin.UnivariateSpline(times,x_pos,s=4000)\n",
    "            sply=spin.UnivariateSpline(times,y_pos,s=4000)\n",
    "            x_smooth=splx(times)\n",
    "            y_smooth=sply(times)\n",
    "\n",
    "            x_pos,y_pos=x_smooth,y_smooth\n",
    "            \n",
    "            x_nor=x_pos-x_pos[0]\n",
    "            y_nor=y_pos-y_pos[0]\n",
    "\n",
    "            d=cumsum(sqrt(gradient(x_nor)**2+gradient(y_nor)**2))\n",
    "            r=sqrt(x_nor**2+y_nor**2);\n",
    "\n",
    "            vx=gradient(x_nor)\n",
    "            vy=gradient(y_nor)\n",
    "\n",
    "            v=sqrt(vx**2+vy**2)\n",
    "\n",
    "\n",
    "            ind=r/d\n",
    "\n",
    "            cuts= (v>0.5) & (r>25.0)\n",
    "\n",
    "            index=sum(1-ind[cuts])/ind[cuts].size\n",
    "            #index=1-average(ind[cuts])\n",
    "\n",
    "            stoptime=(x_pos.size)-(ind[cuts]).size  \n",
    "            staytime=x_pos.size\n",
    "            if len(where(r>20)[0])>0:\n",
    "                staytime=min(where(r>20)[0])\n",
    "\n",
    "            print(\"%s  %.2f\" % (filename,index),file=sys.stderr)\n",
    "            indexlist.append(index)\n",
    "            timelist.append(x_pos.size)\n",
    "\n",
    "            ax=plt.subplot(5,5,count)\n",
    "            ax.set_xticks([])\n",
    "            ax.set_yticks([])\n",
    "            ax.set_xlim([0,500])\n",
    "            ax.set_ylim([0,500])\n",
    "            ax.plot(x_pos,y_pos)\n",
    "            ax.text(100,100,\"%0.2f\" % index)\n",
    "            \n",
    "            #print(\"%s %0.2f %d\"%(filename,index,stoptime),end='\\n')\n",
    "        \n",
    "indexlist_low=indexlist\n",
    "timelist_low=timelist\n",
    "filename_low=filenamelist\n",
    "plt.show()\n",
    "\n"
   ]
  },
  {
   "cell_type": "code",
   "execution_count": 105,
   "metadata": {
    "collapsed": false,
    "scrolled": true
   },
   "outputs": [
    {
     "name": "stderr",
     "output_type": "stream",
     "text": [
      "11.mat  0.82\n",
      "18.mat  0.93\n",
      "14.mat  0.71\n",
      "1.mat  0.83\n",
      "8.mat  0.88\n",
      "17.mat  0.83\n",
      "6.mat  0.94\n",
      "16.mat  0.83\n",
      "20.mat  0.92\n",
      "9.mat  0.72\n",
      "19.mat  0.88\n",
      "10.mat  0.25\n",
      "3.mat  0.86\n",
      "4.mat  0.83\n",
      "15.mat  0.94\n",
      "7.mat  0.82\n",
      "5.mat  0.51\n",
      "12.mat  0.90\n",
      "13.mat  0.67\n",
      "2.mat  0.48\n"
     ]
    }
   ],
   "source": [
    "#for wild type\n",
    "\n",
    "indexlist=[]\n",
    "timelist=[]\n",
    "filenamelist=[]\n",
    "\n",
    "dt=1/50\n",
    "count=0\n",
    "for dirname, dirnames, filenames in os.walk('/home/pallab/AxelWork/Data/Satoshi/starvation without water/sugar'):\n",
    "    for filename in filenames:\n",
    "        if filename[-1]=='t':\n",
    "            count=count+1\n",
    "            filenamelist.append(filename)\n",
    "            sys.stderr.flush()\n",
    "            data=spio.loadmat(os.path.join(dirname, filename))\n",
    "            #data=spi.loadmat(\"/media/pallab/My Passport/with dot experiment/Light Light Light/data\"+str(i)+\"/n1\")\n",
    "            timestamps=ndarray.flatten(data['timestamps'])\n",
    "\n",
    "            for key in data.keys():\n",
    "                if key not in ['__globals__','__version__','__header__']:\n",
    "                    exec(key+\"=ndarray.flatten(data['\"+key+\"'])\")\n",
    "\n",
    "            #smoothing\n",
    "\n",
    "            times=timestamps[0:x_pos.size]\n",
    "\n",
    "            splx=spin.UnivariateSpline(times,x_pos,s=4000)\n",
    "            sply=spin.UnivariateSpline(times,y_pos,s=4000)\n",
    "            x_smooth=splx(times)\n",
    "            y_smooth=sply(times)\n",
    "            x_pos,y_pos=x_smooth,y_smooth\n",
    "\n",
    "\n",
    "            x_nor=x_pos-x_pos[0]\n",
    "            y_nor=y_pos-y_pos[0]\n",
    "\n",
    "            d=cumsum(sqrt(gradient(x_nor)**2+gradient(y_nor)**2))\n",
    "            r=sqrt(x_nor**2+y_nor**2);\n",
    "\n",
    "            vx=gradient(x_nor)\n",
    "            vy=gradient(y_nor)\n",
    "\n",
    "            v=sqrt(vx**2+vy**2)\n",
    "\n",
    "\n",
    "            ind=r/d\n",
    "\n",
    "            cuts= (v>0.5) & (r>25.0)\n",
    "\n",
    "            index=sum(1-ind[cuts])/(ind[cuts]).size\n",
    "            #index=1-average(ind[cuts])\n",
    "\n",
    "            stoptime=(x_pos.size)-(ind[cuts]).size  \n",
    "            staytime=x_pos.size\n",
    "            if len(where(r>20)[0])>0:\n",
    "                staytime=min(where(r>20)[0])\n",
    "\n",
    "            print(\"%s  %.2f\" % (filename,index),file=sys.stderr)\n",
    "            indexlist.append(index)\n",
    "            timelist.append(x_pos.size)\n",
    "\n",
    "            #plt.plsqrt(x_nor**2+y_nor**2))\n",
    "            #plt.tachyylim((0,1))\n",
    "            #plt.plot(r/d,\"r-\")\n",
    "\n",
    "indexlist_high=indexlist\n",
    "timelist_high=timelist\n",
    "filename_high=filenamelist\n"
   ]
  },
  {
   "cell_type": "code",
   "execution_count": 60,
   "metadata": {
    "collapsed": false
   },
   "outputs": [],
   "source": [
    "#Plot of the r/d index for Control and Test\n",
    "\n",
    "rlist1=indexlist_low\n",
    "rlist2=indexlist_high\n",
    "\n",
    "timelist1=timelist_low\n",
    "timelist2=timelist_high\n",
    "\n",
    "filename1=filename_low\n",
    "filename2=filename_high\n",
    "\n",
    "from scipy.stats import mannwhitneyu\n",
    "\n",
    "import matplotlib.pyplot as plt\n",
    "#plt.figure()\n",
    "plt.xlim((0.8,1.4))\n",
    "plt.plot(len(rlist1)*[1],rlist1,\"ro\")\n",
    "plt.plot([1],average(rlist1),\"rx\")\n",
    "plt.plot(len(rlist2)*[1.2],rlist2,\"go\")\n",
    "plt.plot([1.2],average(rlist2),\"gx\")\n",
    "sv=mannwhitneyu(rlist1,rlist2)\n",
    "plt.annotate('%0.2f %0.2e' % (sv[0],sv[1]), (1.1,0.3))\n",
    "plt.xticks([])\n",
    "plt.show()\n"
   ]
  },
  {
   "cell_type": "code",
   "execution_count": 62,
   "metadata": {
    "collapsed": false
   },
   "outputs": [],
   "source": [
    "#Plot of t vs index in a 2d plot\n",
    "#plt.xlim(0,4000)\n",
    "#plt.ylim(0,1.0)\n",
    "\n",
    "plt.ylim((0,1))\n",
    "plt.xlim((0,4000))\n",
    "\n",
    "plt.plot(timelist1,rlist1,\"go\", ms = 8, mec = 'green') #markersize and markeredgecolor\n",
    "plt.plot(timelist2,rlist2,\"ro\", ms = 8, mec = 'red')\n",
    "\n",
    "\n",
    "plt.show()\n"
   ]
  },
  {
   "cell_type": "code",
   "execution_count": 237,
   "metadata": {
    "collapsed": false
   },
   "outputs": [],
   "source": [
    "#Box plots of the data\n",
    "\n",
    "#plt.xlim((0,.5))\n",
    "plt.ylim((0,1.0))\n",
    "\n",
    "data=[rlist1,rlist2]\n",
    "#plt.boxplot(data)\n",
    "p0,p1=0,0.5\n",
    "bp = plt.boxplot(data,positions=[p0,p1], widths=0.3)\n",
    "\n",
    "plt.setp(bp['boxes'], color='black') \n",
    "#for i in range(2):\n",
    "\n",
    "y = data[0]\n",
    "x = random.normal(p0, 0.04, size=len(y))\n",
    "plt.plot(x, y, 'g.', alpha=0.6, ms=11)\n",
    "\n",
    "y = data[1]\n",
    "x = random.normal(p1, 0.04, size=len(y))\n",
    "plt.plot(x, y, 'r.', alpha=0.6, ms=11)\n",
    "plt.axes().set_aspect(3)\n",
    "\n",
    "plt.xticks([])\n",
    "\n",
    "plt.show()"
   ]
  },
  {
   "cell_type": "code",
   "execution_count": null,
   "metadata": {
    "collapsed": false
   },
   "outputs": [],
   "source": [
    "rlist1"
   ]
  },
  {
   "cell_type": "code",
   "execution_count": null,
   "metadata": {
    "collapsed": false
   },
   "outputs": [],
   "source": [
    "(d>0.5) & (v>0.02)"
   ]
  },
  {
   "cell_type": "code",
   "execution_count": null,
   "metadata": {
    "collapsed": false
   },
   "outputs": [],
   "source": [
    "where(abs(array(rlist1)-0.859)<0.001)[0]"
   ]
  },
  {
   "cell_type": "code",
   "execution_count": null,
   "metadata": {
    "collapsed": false
   },
   "outputs": [],
   "source": [
    "timelist1[20]"
   ]
  },
  {
   "cell_type": "code",
   "execution_count": null,
   "metadata": {
    "collapsed": false
   },
   "outputs": [],
   "source": [
    "filename1[20]"
   ]
  },
  {
   "cell_type": "code",
   "execution_count": null,
   "metadata": {
    "collapsed": false
   },
   "outputs": [],
   "source": [
    "#For individual files\n",
    "\n",
    "from scipy.signal import argrelextrema\n",
    "import matplotlib.pyplot as plt\n",
    "\n",
    "\n",
    "fname=r'C:\\Users\\Nikhil\\Dropbox\\Nikhil\\Ravi3\\2M CONC\\Day 3\\H1_2015-09-18-155836-0000.mat'\n",
    "#fname='/home/pallab/Dropbox/work/Bio/Axel/Ravi2/0.2M CONC/Day 1/L1_2015-08-21-105339-0000.mat'      \n",
    "\n",
    "data=spio.loadmat(fname)\n",
    "\n",
    "        #data=spi.loadmat(\"/media/pallab/My Passport/with dot experiment/Light Light Light/data\"+str(i)+\"/n1\")\n",
    "timestamps=ndarray.flatten(data['timestamps'])\n",
    "\n",
    "for key in data.keys():\n",
    "    if key not in ['__globals__','__version__','__header__']:\n",
    "        exec(key+\"=ndarray.flatten(data['\"+key+\"'])\")\n",
    "\n",
    "times=timestamps[0:x_pos.size]\n",
    "\n",
    "splx=spin.UnivariateSpline(times,x_pos,s=4000)\n",
    "sply=spin.UnivariateSpline(times,y_pos,s=4000)\n",
    "\n",
    "x_smooth=splx(times)\n",
    "y_smooth=sply(times)\n",
    "\n",
    "time_extrema=argrelextrema(x_smooth, greater)[0]\n",
    "len(time_extrema)\n",
    "\n",
    "\n",
    "ax=plt.gca()\n",
    "ax.set_xticklabels([])\n",
    "ax.set_yticklabels([])\n",
    "ax.set_aspect('equal')\n",
    "#ax.polar('True')\n",
    "\n",
    "plt.xlim([200,1100]) #[200,1100] for Tachykinin\n",
    "plt.ylim([100,1000])  #[75,1000] for Tachykinin\n",
    "#theta=linspace(0,2*pi,1000)\n",
    "#x0,y0,r=250,225,220\n",
    "\n",
    "#xc=x0+r*cos(theta)\n",
    "#yc=y0+r*sin(theta)\n",
    "#plt.plot(xc,yc),\n",
    "#plt.plot(gradient(x_smooth),'g-')\n",
    "plt.plot(x_pos, y_pos, 'r-')\n",
    "plt.show()"
   ]
  },
  {
   "cell_type": "code",
   "execution_count": null,
   "metadata": {
    "collapsed": false
   },
   "outputs": [],
   "source": [
    "import numpy\n",
    "numpy.var(rlist2)"
   ]
  },
  {
   "cell_type": "code",
   "execution_count": null,
   "metadata": {
    "collapsed": false
   },
   "outputs": [],
   "source": [
    "# Independent two-tailed t-test, unequal variances\n",
    "from scipy import stats\n",
    "stats.ttest_ind(rlist1, rlist2, equal_var = False)"
   ]
  },
  {
   "cell_type": "code",
   "execution_count": 238,
   "metadata": {
    "collapsed": false
   },
   "outputs": [],
   "source": [
    "from scipy.stats import *\n",
    "from scipy.optimize import fsolve\n",
    "a1,b1=beta.fit(rlist1[rlist1<0.7],floc=0,fscale=1)[0:2]\n",
    "a2,b2=beta.fit(rlist2[rlist2>0.5],floc=0,fscale=1)[0:2]\n",
    "x=linspace(0,1,10000)\n",
    "vals=1-fabs(beta.cdf(x,a1,b1)-beta.cdf(x,a2,b2))"
   ]
  },
  {
   "cell_type": "code",
   "execution_count": 239,
   "metadata": {
    "collapsed": false
   },
   "outputs": [
    {
     "data": {
      "text/plain": [
       "0.61309999999999998"
      ]
     },
     "execution_count": 239,
     "metadata": {},
     "output_type": "execute_result"
    }
   ],
   "source": [
    "argmin(vals)/10000.00"
   ]
  },
  {
   "cell_type": "code",
   "execution_count": 245,
   "metadata": {
    "collapsed": false
   },
   "outputs": [
    {
     "data": {
      "text/plain": [
       "0.034685620076563152"
      ]
     },
     "execution_count": 245,
     "metadata": {},
     "output_type": "execute_result"
    }
   ],
   "source": [
    "beta.cdf(0.613,a2,b2)"
   ]
  },
  {
   "cell_type": "code",
   "execution_count": 241,
   "metadata": {
    "collapsed": false
   },
   "outputs": [],
   "source": [
    "plt.plot(x,beta.pdf(x,a1,b1))\n",
    "plt.plot(x,beta.pdf(x,a2,b2))\n",
    "plt.show()"
   ]
  },
  {
   "cell_type": "code",
   "execution_count": 236,
   "metadata": {
    "collapsed": true
   },
   "outputs": [],
   "source": [
    "plt.plot(rlist1,\"go\")\n",
    "plt.show()"
   ]
  },
  {
   "cell_type": "code",
   "execution_count": 251,
   "metadata": {
    "collapsed": false
   },
   "outputs": [],
   "source": [
    "plt.plot(beta.pdf(x,a1,b1)-beta.pdf(x,a2,b2))\n",
    "plt.show()\n"
   ]
  },
  {
   "cell_type": "code",
   "execution_count": 255,
   "metadata": {
    "collapsed": false
   },
   "outputs": [
    {
     "data": {
      "text/plain": [
       "array([ 0.61314861])"
      ]
     },
     "execution_count": 255,
     "metadata": {},
     "output_type": "execute_result"
    }
   ],
   "source": [
    "fsolve(lambda y:beta.pdf(y,a1,b1)-beta.pdf(y,a2,b2),0.5)"
   ]
  },
  {
   "cell_type": "code",
   "execution_count": null,
   "metadata": {
    "collapsed": true
   },
   "outputs": [],
   "source": []
  }
 ],
 "metadata": {
  "kernelspec": {
   "display_name": "Python 2",
   "language": "python",
   "name": "python2"
  },
  "language_info": {
   "codemirror_mode": {
    "name": "ipython",
    "version": 2
   },
   "file_extension": ".py",
   "mimetype": "text/x-python",
   "name": "python",
   "nbconvert_exporter": "python",
   "pygments_lexer": "ipython2",
   "version": "2.7.6"
  }
 },
 "nbformat": 4,
 "nbformat_minor": 0
}
