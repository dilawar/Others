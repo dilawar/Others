{
 "cells": [
  {
   "cell_type": "code",
   "execution_count": 1,
   "metadata": {
    "collapsed": false
   },
   "outputs": [],
   "source": [
    "#This file deals with high vs low sugar flies\n",
    "from __future__ import print_function\n",
    "import scipy.io as spio\n",
    "import scipy.interpolate as spin\n",
    "from scipy.linalg import norm\n",
    "from numpy import *\n",
    "from scipy.spatial.distance import cdist\n",
    "import sys\n",
    "import os\n",
    "import cPickle as pickle\n",
    "import pandas as pd\n",
    "import pylab\n",
    "import matplotlib.pyplot as plt\n",
    "from scipy.stats import mannwhitneyu"
   ]
  },
  {
   "cell_type": "code",
   "execution_count": 25,
   "metadata": {
    "collapsed": false
   },
   "outputs": [],
   "source": [
    "def index(x_pos,y_pos): # latest index\n",
    "    rmin=20\n",
    "    x_nor=x_pos-x_pos[0]\n",
    "    y_nor=y_pos-y_pos[0]\n",
    "    r=sqrt(x_nor**2+y_nor**2);\n",
    "    \n",
    "    vx=gradient(x_nor)\n",
    "    vy=gradient(y_nor)\n",
    "    v=sqrt(vx**2+vy**2)\n",
    "    \n",
    "    cutv= (v>0.00) \n",
    "    cutr= (r>rmin)\n",
    "    cuts=cutv & cutr\n",
    "    \n",
    "    d=rmin+cumsum(sqrt(vx**2+vy**2)*cuts)\n",
    "    \n",
    "\n",
    "    #velocity calculation\n",
    "\n",
    "    \n",
    "    ind=r/d \n",
    "    ind[~cuts]=1\n",
    "    indx=average(1-ind)\n",
    "    if max(r)<50:\n",
    "        return(0)\n",
    "    return indx\n",
    "    \n",
    "\n",
    "def staytime(x_pos,y_pos): #Incomplete\n",
    "    x_nor=x_pos-x_pos[0]\n",
    "    y_nor=y_pos-y_pos[0]\n",
    "\n",
    "    d=cumsum(sqrt(gradient(x_nor)**2+gradient(y_nor)**2))\n",
    "    r=sqrt(x_nor**2+y_nor**2)\n",
    "    \n",
    "    #Calculating the nhoodtime/stop time\n",
    "    points=dstack((x_pos,y_pos))[0]\n",
    "    M=cdist(points,points)\n",
    "    \n",
    "    nmask=ones(x_pos.size,dtype=bool)\n",
    "\n",
    "    i=0\n",
    "    \n",
    "    while(i<x_pos.size):\n",
    "        bg=i\n",
    "        end=min(x_pos.size,i+15)\n",
    "        if max(M[i,i:end])<10:\n",
    "            nmask[i:end]=False\n",
    "            i=end+1\n",
    "        else:\n",
    "            i=i+1\n",
    "# Different cuts\n",
    "#    cuts= (v>0.1) & (d>5.0)\n",
    "    \n",
    "\n",
    "    stoptime=(x_pos.size)-(x_pos[cuts]).size   \n",
    "    staytime=x_pos.size\n",
    "    if len(where(r>20)[0])>0:\n",
    "        staytime=min(where(r>20)[0])\n",
    "    "
   ]
  },
  {
   "cell_type": "code",
   "execution_count": 26,
   "metadata": {
    "collapsed": false,
    "scrolled": true
   },
   "outputs": [
    {
     "name": "stdout",
     "output_type": "stream",
     "text": [
      "11.mat 102.65469404 0.866599653698\n",
      "18.mat 87.192422045 0.770601818418\n",
      "14.mat 29.5026930706 0.818880492\n",
      "1.mat 51.4136049649 0.8762960069\n",
      "8.mat 44.1755139608 0.868883673151\n",
      "17.mat 59.4051984835 0.762657739788\n",
      "6.mat 92.6810857485 0.730207650056\n",
      "16.mat 48.7067808053 0.71872717679\n",
      "20.mat 92.0051782931 0.733352228994\n",
      "9.mat 67.8120639939 0.747996086747\n",
      "19.mat 92.0949519125 0.555291996437\n",
      "10.mat 40.0668462147 0.029872635506\n",
      "3.mat 70.3294804606 0.431724848301\n",
      "4.mat 147.772456176 0.831014760241\n",
      "15.mat 90.3426086683 0.70403507806\n",
      "7.mat 88.8622022327 0.84761833336\n",
      "5.mat 56.0139442169 0.18495358908\n",
      "12.mat 74.4820497476 0.724952593532\n",
      "13.mat 64.7520536136 0.374663420518\n",
      "2.mat 42.3016205669 0.604667250575\n",
      "11.mat 119.443252991 0.175508730375\n",
      "18.mat 36.9116229671 0.0196281296129\n",
      "14.mat 128.480950343 0.244643588027\n",
      "1.mat 75.1152237627 0.13994706146\n",
      "8.mat 49.6229318403 0.472545795728\n",
      "17.mat 80.1631998244 0.122420373508\n",
      "6.mat 49.5002753795 0.316486453691\n",
      "16.mat 60.0929130471 0.0451276137267\n",
      "20.mat 66.947441117 0.0835406441238\n",
      "9.mat 160.594294351 0.478094250709\n",
      "19.mat 119.719430563 0.354923474373\n",
      "10.mat 60.9154580861 0.147116479762\n",
      "3.mat 89.3790497415 0.268052073552\n",
      "4.mat 147.90070023 0.277972326018\n",
      "15.mat 89.6679021333 0.089184557685\n",
      "7.mat 136.291662015 0.340704237735\n",
      "5.mat 78.4638456545 0.179471226315\n",
      "12.mat 123.923440396 0.544179385192\n",
      "13.mat 61.4841335463 0.0474889202155\n",
      "2.mat 59.5403255162 0.0531975799332\n"
     ]
    }
   ],
   "source": [
    "#for wild type\n",
    "rlist=[]\n",
    "indexlist=[]\n",
    "timelist=[]\n",
    "filenamelist=[]\n",
    "dt=1/50\n",
    "count=0\n",
    "\n",
    "#['6','12','11','14','15'],['1','5','9','10']\n",
    "for mode in ['sugar','water']:\n",
    "    rlist=[]\n",
    "    indexlist=[]\n",
    "    timelist=[]\n",
    "    filenamelist=[]\n",
    "    dt=1/50\n",
    "    count=0\n",
    "    for dirname,dirnames,filenames in os.walk(\"/home/pallab/Dropbox/work/Bio/Axel/Data/Satoshi/starvation without water/\"+mode):\n",
    "        for filename in filenames:\n",
    "            if filename[-1]!='t':\n",
    "                continue\n",
    "            filenamelist.append(filename)\n",
    "            data=spio.loadmat(os.path.join(dirname, filename))\n",
    "            timestamps=ndarray.flatten(data['timestamps'])\n",
    "\n",
    "            for key in data.keys():\n",
    "                if key not in ['__globals__','__version__','__header__']:\n",
    "                    exec(key+\"=ndarray.flatten(data['\"+key+\"'])\")\n",
    "\n",
    "            #smoothing\n",
    "            times=timestamps[0:x_pos.size]\n",
    "            splx=spin.UnivariateSpline(times,x_pos,s=20)\n",
    "            sply=spin.UnivariateSpline(times,y_pos,s=20)\n",
    "            x_smooth=splx(times)\n",
    "            y_smooth=sply(times)\n",
    "\n",
    "    #        x_pos,y_pos=x_smooth,y_smooth\n",
    "            x_nor=x_pos-x_pos[0]\n",
    "            y_nor=y_pos-y_pos[0]\n",
    "\n",
    "            r=sqrt(x_nor**2+y_nor**2)\n",
    "\n",
    "\n",
    "        #x_smooth=splx(times)\n",
    "        #y_smooth=sply(times)\n",
    "\n",
    "\n",
    "\n",
    "\n",
    "            timelist.append(x_pos.size)\n",
    "\n",
    "            dt=1/30.0\n",
    "        #    print(\"%s %0.3f %d %d\"%(filename,index,stoptime*dt,staytime*dt),end='\\n')\n",
    "            rlist.append(average(r))\n",
    "            indx=index(x_pos,y_pos)\n",
    "            indexlist.append(indx)\n",
    "            print(filename,average(r),indx,end='\\n')\n",
    "\n",
    "\n",
    "\n",
    "\n",
    "            plt.plot(x_nor, y_nor, 'g-')\n",
    "\n",
    "            # location of dots\n",
    "            plt.xlim([-500,500]) #[200,1100] for Tachykinin\n",
    "            plt.ylim([-500,500])  #[75,1000] for Tachykinin\n",
    "            plt.axes().set_aspect('equal')\n",
    "\n",
    "    #        plt.plot(x_pos[0],y_pos[0],'ko',ms=15, mfc='none', mew=1)        \n",
    "\n",
    "            plt.savefig(\"/home/pallab/AxelWork/pix/\"+str.split(filename,\".\")[0]+'.png')\n",
    "            plt.close()\n",
    "            plt.show()\n",
    "    #idxs=array([round(indexlist[keys],2) for keys in indexlist.keys()])\n",
    "    exec(\"rlist_%s=rlist\"%mode)\n",
    "    exec(\"timelist%s=timelist\"%mode)\n",
    "    exec(\"id_%s=indexlist\"%mode)"
   ]
  },
  {
   "cell_type": "code",
   "execution_count": 42,
   "metadata": {
    "collapsed": false
   },
   "outputs": [],
   "source": [
    "#Box plots of the data\n",
    "\n",
    "plt.xlim(0.5,4.0)\n",
    "plt.ylim(0,1.0)\n",
    "\n",
    "data=[id_water,id_sugar]\n",
    "#plt.boxplot(data)\n",
    "\n",
    "bp = plt.boxplot(data, widths=0.5)\n",
    "plt.setp(bp['boxes'], color='black') \n",
    "#for i in range(2):\n",
    "y = data[0]\n",
    "x = random.normal(1+0, 0.04, size=len(y))\n",
    "plt.plot(x, y, 'g.', alpha=0.6, ms=11)\n",
    "\n",
    "y = data[1]\n",
    "x = random.normal(1+1, 0.04, size=len(y))\n",
    "plt.plot(x, y, 'r.', alpha=0.6, ms=11)\n",
    "plt.axes().set_aspect(4.0)\n",
    "plt.show()"
   ]
  },
  {
   "cell_type": "code",
   "execution_count": 35,
   "metadata": {
    "collapsed": false
   },
   "outputs": [
    {
     "data": {
      "text/plain": [
       "(34.0, 3.7886905298631322e-06)"
      ]
     },
     "execution_count": 35,
     "metadata": {},
     "output_type": "execute_result"
    }
   ],
   "source": [
    "mannwhitneyu(id_sugar,id_water)"
   ]
  },
  {
   "cell_type": "code",
   "execution_count": 102,
   "metadata": {
    "collapsed": false
   },
   "outputs": [
    {
     "ename": "NameError",
     "evalue": "name 'perasonr' is not defined",
     "output_type": "error",
     "traceback": [
      "\u001b[0;31m---------------------------------------------------------------------------\u001b[0m",
      "\u001b[0;31mNameError\u001b[0m                                 Traceback (most recent call last)",
      "\u001b[0;32m<ipython-input-102-1dea54a610a4>\u001b[0m in \u001b[0;36m<module>\u001b[0;34m()\u001b[0m\n\u001b[0;32m----> 1\u001b[0;31m \u001b[0mperasonr\u001b[0m\u001b[0;34m(\u001b[0m\u001b[0mid_sugar\u001b[0m\u001b[0;34m,\u001b[0m\u001b[0mid_water\u001b[0m\u001b[0;34m)\u001b[0m\u001b[0;34m\u001b[0m\u001b[0m\n\u001b[0m",
      "\u001b[0;31mNameError\u001b[0m: name 'perasonr' is not defined"
     ]
    }
   ],
   "source": []
  },
  {
   "cell_type": "code",
   "execution_count": 5,
   "metadata": {
    "collapsed": true
   },
   "outputs": [],
   "source": [
    "from scipy.stats.stats import pearsonr"
   ]
  },
  {
   "cell_type": "code",
   "execution_count": 28,
   "metadata": {
    "collapsed": false
   },
   "outputs": [
    {
     "data": {
      "text/plain": [
       "(0.28239716194700926, 0.22768451050961988)"
      ]
     },
     "execution_count": 28,
     "metadata": {},
     "output_type": "execute_result"
    }
   ],
   "source": [
    "pearsonr(id_water,timelistwater)"
   ]
  },
  {
   "cell_type": "code",
   "execution_count": 43,
   "metadata": {
    "collapsed": false
   },
   "outputs": [],
   "source": [
    "plt.plot(timelistwater,id_water,\"go\")\n",
    "plt.plot(timelistsugar,id_sugar,\"ro\")\n",
    "plt.xlim([0,4000])\n",
    "plt.ylim([0,1.0])\n",
    "plt.show()"
   ]
  },
  {
   "cell_type": "code",
   "execution_count": 36,
   "metadata": {
    "collapsed": false
   },
   "outputs": [
    {
     "data": {
      "text/plain": [
       "(0.57510852483638986, 0.0079819967407856931)"
      ]
     },
     "execution_count": 36,
     "metadata": {},
     "output_type": "execute_result"
    }
   ],
   "source": [
    "pearsonr(id_sugar,timelistsugar)"
   ]
  },
  {
   "cell_type": "code",
   "execution_count": 45,
   "metadata": {
    "collapsed": false
   },
   "outputs": [
    {
     "data": {
      "text/plain": [
       "(0.28239716194700926, 0.22768451050961988)"
      ]
     },
     "execution_count": 45,
     "metadata": {},
     "output_type": "execute_result"
    }
   ],
   "source": [
    "pearsonr(id_water,timelistwater)"
   ]
  },
  {
   "cell_type": "code",
   "execution_count": 44,
   "metadata": {
    "collapsed": false
   },
   "outputs": [],
   "source": [
    "map(lambda x:round(x,2),id_sugar)"
   ]
  },
  {
   "cell_type": "code",
   "execution_count": null,
   "metadata": {
    "collapsed": true
   },
   "outputs": [],
   "source": []
  }
 ],
 "metadata": {
  "kernelspec": {
   "display_name": "Python 2",
   "language": "python",
   "name": "python2"
  },
  "language_info": {
   "codemirror_mode": {
    "name": "ipython",
    "version": 2
   },
   "file_extension": ".py",
   "mimetype": "text/x-python",
   "name": "python",
   "nbconvert_exporter": "python",
   "pygments_lexer": "ipython2",
   "version": "2.7.6"
  }
 },
 "nbformat": 4,
 "nbformat_minor": 0
}
