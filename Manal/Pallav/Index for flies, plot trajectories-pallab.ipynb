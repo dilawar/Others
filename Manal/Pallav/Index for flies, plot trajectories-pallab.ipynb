{
 "cells": [
  {
   "cell_type": "code",
   "execution_count": 11,
   "metadata": {
    "collapsed": false
   },
   "outputs": [],
   "source": [
    "#This file deals with light vs darkness in flies\n",
    "%matplotlib inline\n",
    "from __future__ import print_function\n",
    "import scipy.io as spio\n",
    "import scipy.interpolate as spin\n",
    "from scipy.linalg import norm\n",
    "from numpy import *\n",
    "from scipy.spatial.distance import cdist\n",
    "import sys\n",
    "import os\n",
    "import cPickle as pickle\n",
    "import pandas as pd\n",
    "import pylab\n",
    "import matplotlib.pyplot as plt"
   ]
  },
  {
   "cell_type": "code",
   "execution_count": 7,
   "metadata": {
    "collapsed": true
   },
   "outputs": [],
   "source": [
    "def index(x_pos,y_pos): # latest index\n",
    "    x_nor=x_pos-x_pos[0]\n",
    "    y_nor=y_pos-y_pos[0]\n",
    "\n",
    "    d=cumsum(sqrt(gradient(x_nor)**2+gradient(y_nor)**2))\n",
    "    r=sqrt(x_nor**2+y_nor**2);\n",
    "\n",
    "    #velocity calculation\n",
    "\n",
    "    vx=gradient(x_nor)\n",
    "    vy=gradient(y_nor)\n",
    "    v=sqrt(vx**2+vy**2)\n",
    "    cuts= (v>0.0) & (r>20.0)\n",
    "    ind=r/d \n",
    "    ind[~cuts]=1\n",
    "    indx=average(1-ind)\n",
    "    if max(r)<50:\n",
    "        return(0)\n",
    "    return indx\n",
    "    \n",
    "\n",
    "def staytime(x_pos,y_pos): #Incomplete\n",
    "    x_nor=x_pos-x_pos[0]\n",
    "    y_nor=y_pos-y_pos[0]\n",
    "\n",
    "    d=cumsum(sqrt(gradient(x_nor)**2+gradient(y_nor)**2))\n",
    "    r=sqrt(x_nor**2+y_nor**2)\n",
    "    \n",
    "    #Calculating the nhoodtime/stop time\n",
    "    points=dstack((x_pos,y_pos))[0]\n",
    "    M=cdist(points,points)\n",
    "    \n",
    "    nmask=ones(x_pos.size,dtype=bool)\n",
    "\n",
    "    i=0\n",
    "    \n",
    "    while(i<x_pos.size):\n",
    "        bg=i\n",
    "        end=min(x_pos.size,i+15)\n",
    "        if max(M[i,i:end])<10:\n",
    "            nmask[i:end]=False\n",
    "            i=end+1\n",
    "        else:\n",
    "            i=i+1\n",
    "# Different cuts\n",
    "#    cuts= (v>0.1) & (d>5.0)\n",
    "    \n",
    "\n",
    "    stoptime=(x_pos.size)-(x_pos[cuts]).size   \n",
    "    staytime=x_pos.size\n",
    "    if len(where(r>20)[0])>0:\n",
    "        staytime=min(where(r>20)[0])\n",
    "    "
   ]
  },
  {
   "cell_type": "code",
   "execution_count": 8,
   "metadata": {
    "collapsed": false,
    "scrolled": true
   },
   "outputs": [
    {
     "name": "stdout",
     "output_type": "stream",
     "text": [
      "CS_2016-06-25-145906-0000.mat 75.5154210064 0.535214269902\n",
      "CS_2016-06-25-152020-0000.mat 39.0636942865 0.545669229192\n",
      "CS_2016-06-25-145601-0000.mat 16.6587129279 0\n",
      "CS_2016-06-25-151144-0000.mat 182.048394725 0.666237972308\n",
      "CS_2016-06-25-150827-0000.mat 128.202282009 0.486850061674\n",
      "CS_2016-06-25-154422-0000.mat 60.9088698654 0.629452297723\n"
     ]
    }
   ],
   "source": [
    "#for wild type\n",
    "rlist=[]\n",
    "indexlist={}\n",
    "timelist=[]\n",
    "filenamelist=[]\n",
    "dt=1/50\n",
    "count=0\n",
    "mode='darkness'\n",
    "#['6','12','11','14','15'],['1','5','9','10']\n",
    "for dirname,dirnames,filenames in os.walk(\"/home1/dilawars/_DATA/Manal/25.06.2016_0.5M/\"):\n",
    "    for filename in filenames:\n",
    "        if 'mat' != filename.split('.')[-1]:\n",
    "            continue\n",
    "        filenamelist.append(filename)\n",
    "        data=spio.loadmat(os.path.join(dirname, filename))\n",
    "        timestamps=ndarray.flatten(data['timestamps'])\n",
    "    \n",
    "        for key in data.keys():\n",
    "            if key not in ['__globals__','__version__','__header__']:\n",
    "                exec(key+\"=ndarray.flatten(data['\"+key+\"'])\")\n",
    "\n",
    "        #smoothing\n",
    "        times=timestamps[0:x_pos.size]\n",
    "        splx=spin.UnivariateSpline(times,x_pos,s=20)\n",
    "        sply=spin.UnivariateSpline(times,y_pos,s=20)\n",
    "        x_smooth=splx(times)\n",
    "        y_smooth=sply(times)\n",
    "        \n",
    "        x_pos,y_pos=x_smooth,y_smooth\n",
    "        x_nor=x_pos-x_pos[0]\n",
    "        y_nor=y_pos-y_pos[0]\n",
    "        \n",
    "        r=sqrt(x_nor**2+y_nor**2)\n",
    "\n",
    "    \n",
    "    #x_smooth=splx(times)\n",
    "    #y_smooth=sply(times)\n",
    "\n",
    "   \n",
    "\n",
    "\n",
    "        timelist.append(x_pos.size)\n",
    "\n",
    "        dt=1/30.0\n",
    "    #    print(\"%s %0.3f %d %d\"%(filename,index,stoptime*dt,staytime*dt),end='\\n')\n",
    "        rlist.append(average(r))\n",
    "        indx=index(x_pos,y_pos)\n",
    "        indexlist[filename]=indx\n",
    "        print(filename,average(r),indx,end='\\n')\n",
    "        \n",
    "        \n",
    "        plt.plot(x_pos, y_pos, 'r-')\n",
    "        \n",
    "        # location of dots\n",
    "        plt.xlim([0,480]) #[200,1100] for Tachykinin\n",
    "        plt.ylim([0,480])  #[75,1000] for Tachykinin\n",
    "        plt.axes().set_aspect('equal')\n",
    "        plt.plot(x_pos[0],y_pos[0],'ko',ms=15, mfc='none', mew=1)   \n",
    "        \n",
    "   \n",
    "        plt.savefig(\"./\"+ filename.split(\".\")[0]+'.png')\n",
    "        plt.close()\n",
    "        plt.show()\n"
   ]
  },
  {
   "cell_type": "code",
   "execution_count": 9,
   "metadata": {
    "collapsed": false
   },
   "outputs": [
    {
     "data": {
      "text/plain": [
       "array([ 0.55,  0.49,  0.54,  0.67,  0.63])"
      ]
     },
     "execution_count": 9,
     "metadata": {},
     "output_type": "execute_result"
    }
   ],
   "source": [
    "idxs=array([round(indexlist[keys],2) for keys in indexlist.keys()])\n",
    "idxs[idxs>0]"
   ]
  },
  {
   "cell_type": "code",
   "execution_count": 10,
   "metadata": {
    "collapsed": false
   },
   "outputs": [
    {
     "ename": "NameError",
     "evalue": "name 'rlist_low' is not defined",
     "output_type": "error",
     "traceback": [
      "\u001b[1;31m---------------------------------------------------------------------------\u001b[0m",
      "\u001b[1;31mNameError\u001b[0m                                 Traceback (most recent call last)",
      "\u001b[1;32m<ipython-input-10-643d809e1b62>\u001b[0m in \u001b[0;36m<module>\u001b[1;34m()\u001b[0m\n\u001b[0;32m      1\u001b[0m \u001b[1;31m#Plot of the r/d index for Control and Test\u001b[0m\u001b[1;33m\u001b[0m\u001b[1;33m\u001b[0m\u001b[0m\n\u001b[0;32m      2\u001b[0m \u001b[1;33m\u001b[0m\u001b[0m\n\u001b[1;32m----> 3\u001b[1;33m \u001b[0mrlist1\u001b[0m\u001b[1;33m=\u001b[0m\u001b[0mrlist_low\u001b[0m\u001b[1;33m\u001b[0m\u001b[0m\n\u001b[0m\u001b[0;32m      4\u001b[0m \u001b[0mrlist2\u001b[0m\u001b[1;33m=\u001b[0m\u001b[0mrlist_high\u001b[0m\u001b[1;33m\u001b[0m\u001b[0m\n\u001b[0;32m      5\u001b[0m \u001b[1;33m\u001b[0m\u001b[0m\n",
      "\u001b[1;31mNameError\u001b[0m: name 'rlist_low' is not defined"
     ]
    }
   ],
   "source": [
    "#Plot of the r/d index for Control and Test\n",
    "\n",
    "rlist1=rlist_low\n",
    "rlist2=rlist_high\n",
    "\n",
    "rlist1[:]=[1-x for x in rlist1]\n",
    "rlist2[:]=[1-x for x in rlist2]\n",
    "\n",
    "timelist1=timelist_low\n",
    "timelist2=timelist_high\n",
    "\n",
    "filename1=filename_low\n",
    "filename2=filename_high\n",
    "\n",
    "from scipy.stats import mannwhitneyu\n",
    "\n",
    "import matplotlib.pyplot as plt\n",
    "#plt.figure()\n",
    "plt.xlim((0.8,1.4))\n",
    "plt.plot(len(rlist1)*[1],rlist1,\"ro\")\n",
    "plt.plot([1],average(rlist1),\"rx\")\n",
    "plt.plot(len(rlist2)*[1.2],rlist2,\"go\")\n",
    "plt.plot([1.2],average(rlist2),\"gx\")\n",
    "sv=mannwhitneyu(rlist1,rlist2)\n",
    "plt.annotate(map(lambda x:'%f' % x,sv),(1.1,0.3))\n",
    "plt.xticks([])\n",
    "plt.show()\n"
   ]
  },
  {
   "cell_type": "code",
   "execution_count": null,
   "metadata": {
    "collapsed": false
   },
   "outputs": [],
   "source": [
    "#Plot of t vs index in a 2d plot\n",
    "plt.xlim(0,4000)\n",
    "plt.ylim(0,1.0)\n",
    "plt.plot(timelist1,rlist1,\"ro\", ms = 8, mec = 'red') #markersize and markeredgecolor\n",
    "plt.plot(timelist2,rlist2,\"go\", ms = 8, mec = 'green')\n",
    "\n",
    "plt.show()\n"
   ]
  },
  {
   "cell_type": "code",
   "execution_count": null,
   "metadata": {
    "collapsed": true
   },
   "outputs": [],
   "source": [
    "#Box plots of the data\n",
    "\n",
    "plt.xlim(0.5,4.0)\n",
    "plt.ylim(0,1.0)\n",
    "\n",
    "data=[rlist2,rlist1]\n",
    "#plt.boxplot(data)\n",
    "\n",
    "bp = plt.boxplot(data, widths=0.5)\n",
    "plt.setp(bp['boxes'], color='black') \n",
    "#for i in range(2):\n",
    "y = data[0]\n",
    "x = numpy.random.normal(1+0, 0.04, size=len(y))\n",
    "plt.plot(x, y, 'g.', alpha=0.4, ms=11)\n",
    "\n",
    "y = data[1]\n",
    "x = numpy.random.normal(1+1, 0.04, size=len(y))\n",
    "plt.plot(x, y, 'r.', alpha=0.4, ms=11)\n",
    "\n",
    "plt.show(aspect ration matplotlib\n",
    "         "
   ]
  },
  {
   "cell_type": "code",
   "execution_count": null,
   "metadata": {
    "collapsed": false
   },
   "outputs": [],
   "source": [
    "d"
   ]
  },
  {
   "cell_type": "code",
   "execution_count": null,
   "metadata": {
    "collapsed": false
   },
   "outputs": [],
   "source": [
    "ind[d==0]=1.0"
   ]
  },
  {
   "cell_type": "code",
   "execution_count": null,
   "metadata": {
    "collapsed": false
   },
   "outputs": [],
   "source": [
    "ind[~cuts]"
   ]
  },
  {
   "cell_type": "code",
   "execution_count": null,
   "metadata": {
    "collapsed": false
   },
   "outputs": [],
   "source": [
    "ind[where(cuts)]"
   ]
  },
  {
   "cell_type": "code",
   "execution_count": null,
   "metadata": {
    "collapsed": false
   },
   "outputs": [],
   "source": [
    "indexlist"
   ]
  },
  {
   "cell_type": "code",
   "execution_count": null,
   "metadata": {
    "collapsed": false
   },
   "outputs": [],
   "source": [
    "#For individual files\n",
    "\n",
    "from scipy.signal import argrelextrema\n",
    "import matplotlib.pyplot as plt\n",
    "\n",
    "\n",
    "fname='/home1/dilawars/_DATA/Manal/25.06.2016_0.5M/CS_2016-06-25-145601-0000.mat'\n",
    "\n",
    "data=spio.loadmat(fname)\n",
    "\n",
    "        #data=spi.loadmat(\"/media/pallab/My Passport/with dot experiment/Light Light Light/data\"+str(i)+\"/n1\")\n",
    "timestamps=ndarray.flatten(data['timestamps'])\n",
    "\n",
    "for key in data.keys():\n",
    "    if key not in ['__globals__','__version__','__header__']:\n",
    "        exec(key+\"=ndarray.flatten(data['\"+key+\"'])\")\n",
    "\n",
    "times=timestamps[0:x_pos.size]\n",
    "\n",
    "splx=spin.UnivariateSpline(times,x_pos,s=4000)\n",
    "sply=spin.UnivariateSpline(times,y_pos,s=4000)\n",
    "\n",
    "x_smooth=splx(times)\n",
    "y_smooth=sply(times)\n",
    "\n",
    "time_extrema=argrelextrema(x_smooth, greater)[0]\n",
    "len(time_extrema)\n",
    "\n",
    "\n",
    "ax=plt.gca()\n",
    "ax.set_xticklabels([])\n",
    "ax.set_yticklabels([])\n",
    "ax.set_aspect('equal')\n",
    "#ax.polar('True')\n",
    "\n",
    "plt.xlim([200,1100]) #[200,1100] for Tachykinin\n",
    "plt.ylim([100,1000])  #[75,1000] for Tachykinin\n",
    "#theta=linspace(0,2*pi,1000)\n",
    "#x0,y0,r=250,225,220\n",
    "\n",
    "#xc=x0+r*cos(theta)\n",
    "#yc=y0+r*sin(theta)\n",
    "#plt.plot(xc,yc),\n",
    "#plt.plot(gradient(x_smooth),'g-')\n",
    "plt.plot(x_pos, y_pos, 'r-')\n",
    "plt.show()"
   ]
  },
  {
   "cell_type": "code",
   "execution_count": null,
   "metadata": {
    "collapsed": false
   },
   "outputs": [],
   "source": [
    "import numpy\n",
    "numpy.var(rlist2)"
   ]
  },
  {
   "cell_type": "code",
   "execution_count": null,
   "metadata": {
    "collapsed": false
   },
   "outputs": [],
   "source": [
    "# Independent two-tailed t-test, unequal variances\n",
    "from scipy import stats\n",
    "stats.ttest_ind(rlist1, rlist2, equal_var = False)"
   ]
  },
  {
   "cell_type": "code",
   "execution_count": null,
   "metadata": {
    "collapsed": false
   },
   "outputs": [],
   "source": [
    "times=timestamps[0:x_pos.size]\n",
    "\n",
    "        splx=spin.UnivariateSpline(times,x_pos,s=4000)\n",
    "        sply=spin.UnivariateSpline(times,y_pos,s=4000)\n",
    "        x_smooth=splx(times)\n",
    "        y_smooth=sply(times)\n",
    "\n",
    "\n",
    "        x_nor=x_smooth-x_smooth[0]\n",
    "        y_nor=y_smooth-y_smooth[0]\n",
    "\n",
    "    \n",
    "        d=cumsum(sqrt(gradient(x_nor)**2+gradient(y_nor)**2))\n",
    "        r=sqrt(x_nor**2+y_nor**2);"
   ]
  },
  {
   "cell_type": "code",
   "execution_count": null,
   "metadata": {
    "collapsed": false
   },
   "outputs": [],
   "source": [
    "        x_nor=x_pos-x_pos[0]\n",
    "        y_nor=y_pos-y_pos[0]\n",
    "\n",
    "        x_shift,y_shift = roll(x_nor,1), roll(y_nor,-1)\n",
    "\n",
    "        d=cumsum(sqrt((x_shift-x_nor)**2+(y_shift-y_nor)**2))\n",
    "        r=sqrt(x_nor**2+y_nor**2)"
   ]
  },
  {
   "cell_type": "code",
   "execution_count": null,
   "metadata": {
    "collapsed": false
   },
   "outputs": [],
   "source": [
    "for fname,i,r in zip(filename_darkness,indexlist_darkness,rlist_darkness):\n",
    "    print(\"%s %0.2f %0.2f\"%(fname,i,r), end='\\n')"
   ]
  },
  {
   "cell_type": "code",
   "execution_count": null,
   "metadata": {
    "collapsed": false
   },
   "outputs": [],
   "source": [
    "zip(filename_light,indexlist_light)"
   ]
  },
  {
   "cell_type": "code",
   "execution_count": null,
   "metadata": {
    "collapsed": false
   },
   "outputs": [],
   "source": [
    "rlist"
   ]
  },
  {
   "cell_type": "code",
   "execution_count": null,
   "metadata": {
    "collapsed": false
   },
   "outputs": [],
   "source": [
    "indexlist_light"
   ]
  },
  {
   "cell_type": "code",
   "execution_count": null,
   "metadata": {
    "collapsed": false
   },
   "outputs": [],
   "source": [
    "#Box plots of the data\n",
    "\n",
    "#plt.xlim((0,.5))\n",
    "#plt.ylim((0,700))\n",
    "indexlist_darkness=array(indexlist_darkness)\n",
    "indexlist_light=array(indexlist_light)\n",
    "\n",
    "data=[indexlist_darkness[indexlist_darkness>0],indexlist_light[indexlist_light>0]]\n",
    "#plt.boxplot(data)\n",
    "p0,p1=0,1\n",
    "bp = plt.boxplot(data,positions=[p0,p1], widths=0.3)\n",
    "\n",
    "plt.setp(bp['boxes'], color='black') \n",
    "#for i in range(2):\n",
    "\n",
    "y = data[0]\n",
    "x = random.normal(p0, 0.04, size=len(y))\n",
    "plt.plot(x, y, 'k.', alpha=0.8, ms=11)\n",
    "\n",
    "y = data[1]\n",
    "x = random.normal(p1, 0.04, size=len(y))\n",
    "plt.plot(x, y, 'y.', alpha=0.8, ms=11)\n",
    "plt.axes().set_aspect(10)\n",
    "\n",
    "plt.xticks([])\n",
    "\n",
    "plt.show()"
   ]
  },
  {
   "cell_type": "code",
   "execution_count": null,
   "metadata": {
    "collapsed": false
   },
   "outputs": [],
   "source": [
    "from scipy.stats import mannwhitneyu"
   ]
  },
  {
   "cell_type": "code",
   "execution_count": null,
   "metadata": {
    "collapsed": false
   },
   "outputs": [],
   "source": [
    "rlist_darkness=array(rlist_darkness)\n",
    "rlist_light=array(rlist_light)\n",
    "mannwhitneyu(rlist_light[indexlist_light>0],rlist_darkness[indexlist_darkness>0])"
   ]
  },
  {
   "cell_type": "code",
   "execution_count": null,
   "metadata": {
    "collapsed": true
   },
   "outputs": [],
   "source": [
    "cuts=array([True,True,False])"
   ]
  },
  {
   "cell_type": "code",
   "execution_count": null,
   "metadata": {
    "collapsed": true
   },
   "outputs": [],
   "source": [
    "a=array([0,0,0])"
   ]
  },
  {
   "cell_type": "code",
   "execution_count": null,
   "metadata": {
    "collapsed": false
   },
   "outputs": [],
   "source": [
    "a[cuts]=2\n",
    "a[~cuts]=1"
   ]
  },
  {
   "cell_type": "code",
   "execution_count": null,
   "metadata": {
    "collapsed": false
   },
   "outputs": [],
   "source": [
    "a"
   ]
  },
  {
   "cell_type": "code",
   "execution_count": null,
   "metadata": {
    "collapsed": true
   },
   "outputs": [],
   "source": []
  }
 ],
 "metadata": {
  "kernelspec": {
   "display_name": "Python 2",
   "language": "python",
   "name": "python2"
  },
  "language_info": {
   "codemirror_mode": {
    "name": "ipython",
    "version": 2
   },
   "file_extension": ".py",
   "mimetype": "text/x-python",
   "name": "python",
   "nbconvert_exporter": "python",
   "pygments_lexer": "ipython2",
   "version": "2.7.12"
  }
 },
 "nbformat": 4,
 "nbformat_minor": 0
}
